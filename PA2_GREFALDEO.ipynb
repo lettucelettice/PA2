{
 "cells": [
  {
   "cell_type": "code",
   "execution_count": 2,
   "id": "e2fb07f1-d20d-4f4b-935b-14e765bba196",
   "metadata": {},
   "outputs": [],
   "source": [
    "#NORMALIZATION PROBLEM"
   ]
  },
  {
   "cell_type": "code",
   "execution_count": 19,
   "id": "2cf0fc0a-3d01-4ec7-867e-5540159b7010",
   "metadata": {},
   "outputs": [
    {
     "data": {
      "text/plain": [
       "array([[ 0.1264434 ,  1.3616493 ,  1.16142159, -0.42105414, -0.80421956],\n",
       "       [ 0.29024751,  0.8786353 ,  1.57625134,  0.52225984, -0.31613137],\n",
       "       [ 1.07487587, -1.38907829, -0.61622502,  0.1348056 , -0.45845696],\n",
       "       [-1.50236091,  1.55937391,  0.99319996, -1.69625971,  0.16680151],\n",
       "       [-0.03170925, -0.49570353,  0.75114751, -1.27094861, -1.5949653 ]])"
      ]
     },
     "execution_count": 19,
     "metadata": {},
     "output_type": "execute_result"
    }
   ],
   "source": [
    "import numpy as np\n",
    "\n",
    "#create a random 5x5 array\n",
    "X = np.random.random((5,5))\n",
    "\n",
    "#declare variables to be normalized\n",
    "X_mean=np.mean(X)\n",
    "X_std=np.std(X)\n",
    "\n",
    "#normalize values from array\n",
    "X_normalized = (X - X_mean)/(X_std)\n",
    "\n",
    "#save array into \".npy\" file\n",
    "np.save('X_normalized.npy', X_normalized)\n",
    "\n",
    "#output the saved file\n",
    "data = np.load ('X_normalized.npy')\n",
    "data"
   ]
  },
  {
   "cell_type": "code",
   "execution_count": 12,
   "id": "11fb7376-417c-42ab-a22a-57530a86893d",
   "metadata": {},
   "outputs": [],
   "source": [
    "#DIVISIBLE BY 3 PROBLEM"
   ]
  },
  {
   "cell_type": "code",
   "execution_count": 21,
   "id": "9590149c-13ba-492a-9fec-cde8ee9dc147",
   "metadata": {},
   "outputs": [
    {
     "data": {
      "text/plain": [
       "array([   9,   36,   81,  144,  225,  324,  441,  576,  729,  900, 1089,\n",
       "       1296, 1521, 1764, 2025, 2304, 2601, 2916, 3249, 3600, 3969, 4356,\n",
       "       4761, 5184, 5625, 6084, 6561, 7056, 7569, 8100, 8649, 9216, 9801])"
      ]
     },
     "execution_count": 21,
     "metadata": {},
     "output_type": "execute_result"
    }
   ],
   "source": [
    "import numpy as np\n",
    "\n",
    "#create an array of the first 100 positive integers\n",
    "squares = np.arange(1, 101) ** 2\n",
    "\n",
    "#reshape to a 10x10 array\n",
    "squares_10x10 = squares.reshape(10, 10)\n",
    "\n",
    "#find all values that are divisible by 3\n",
    "div_by_3 = squares_10x10[squares_10x10 % 3 == 0]\n",
    "\n",
    "#save array into \".npy\" file\n",
    "np.save('div_by_3.npy', div_by_3)\n",
    "\n",
    "#output the saved file\n",
    "data = np.load('div_by_3.npy')\n",
    "data"
   ]
  },
  {
   "cell_type": "code",
   "execution_count": null,
   "id": "bc5a5657-9891-464c-845a-46b798ed0de2",
   "metadata": {},
   "outputs": [],
   "source": []
  }
 ],
 "metadata": {
  "kernelspec": {
   "display_name": "anaconda-panel-2023.05-py310",
   "language": "python",
   "name": "conda-env-anaconda-panel-2023.05-py310-py"
  },
  "language_info": {
   "codemirror_mode": {
    "name": "ipython",
    "version": 3
   },
   "file_extension": ".py",
   "mimetype": "text/x-python",
   "name": "python",
   "nbconvert_exporter": "python",
   "pygments_lexer": "ipython3",
   "version": "3.11.5"
  }
 },
 "nbformat": 4,
 "nbformat_minor": 5
}
