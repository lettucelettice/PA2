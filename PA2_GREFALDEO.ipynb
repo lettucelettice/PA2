{
 "cells": [
  {
   "cell_type": "markdown",
   "id": "e5c1cbbb-4feb-4450-b079-27f7e3b2b1c0",
   "metadata": {},
   "source": [
    "# 1. NORMALIZATION PROBLEM"
   ]
  },
  {
   "cell_type": "markdown",
   "id": "f04b6c9f-3004-472e-b0c0-692f9c433461",
   "metadata": {},
   "source": [
    "#### This problem involves normalizing a random 5x5 array. The task is to create a random 5x5 array, normalize it by centering (subtracting the mean), scaling (dividing by the standard deviation), and saving the normalized array as a file named X_normalized.npy."
   ]
  },
  {
   "cell_type": "code",
   "execution_count": 7,
   "id": "2cf0fc0a-3d01-4ec7-867e-5540159b7010",
   "metadata": {},
   "outputs": [
    {
     "name": "stdout",
     "output_type": "stream",
     "text": [
      "\n",
      "Original Array:\n",
      " [[0.79664984 0.27155265 0.92836433 0.004249   0.06804399]\n",
      " [0.33568409 0.89638093 0.50689198 0.19985007 0.25480116]\n",
      " [0.28698618 0.71269332 0.63048028 0.53259781 0.63879378]\n",
      " [0.69386411 0.63460522 0.21910993 0.22799096 0.63193623]\n",
      " [0.40386896 0.47083254 0.18058965 0.65722671 0.08220831]]\n",
      "\n",
      "Normalized Array:\n",
      " [[ 1.32885131 -0.68784401  1.83471577 -1.71445397 -1.46944208]\n",
      " [-0.44153993  1.71187986  0.21600337 -0.96322588 -0.75217998]\n",
      " [-0.62856979  1.00640677  0.69065826  0.31472953  0.7225872 ]\n",
      " [ 0.93409104  0.70650059 -0.8892562  -0.8551476   0.69625002]\n",
      " [-0.17966818  0.077513   -1.03719771  0.79338099 -1.41504239]]\n"
     ]
    }
   ],
   "source": [
    "import numpy as np\n",
    "\n",
    "#create a random 5x5 array\n",
    "X = np.random.random((5,5))\n",
    "\n",
    "#declare variables to be normalized\n",
    "X_mean=np.mean(X)\n",
    "X_std=np.std(X)\n",
    "\n",
    "#normalize values from array\n",
    "X_normalized = (X - X_mean)/(X_std)\n",
    "\n",
    "#save array into \".npy\" file\n",
    "np.save('X_normalized.npy', X_normalized)\n",
    "\n",
    "#output the saved file\n",
    "print(\"\\nOriginal Array:\\n\", X)\n",
    "print(\"\\nNormalized Array:\\n\", X_normalized) "
   ]
  },
  {
   "cell_type": "markdown",
   "id": "5440a29c-5106-4cef-920d-626d047b4d6e",
   "metadata": {},
   "source": [
    "# 2. DIVISIBLE BY 3 PROBLEM"
   ]
  },
  {
   "cell_type": "markdown",
   "id": "45359171-6e16-43ec-9c4a-8b9b08814cab",
   "metadata": {},
   "source": [
    "#### This problem involves creating a 10x10 array containing the squares of the first 100 positive integers. The task is to identify all elements in this array that are divisible by 3 and save the resulting elements as a file named div_by_3.npy."
   ]
  },
  {
   "cell_type": "code",
   "execution_count": 9,
   "id": "9590149c-13ba-492a-9fec-cde8ee9dc147",
   "metadata": {},
   "outputs": [
    {
     "data": {
      "text/plain": [
       "array([   9,   36,   81,  144,  225,  324,  441,  576,  729,  900, 1089,\n",
       "       1296, 1521, 1764, 2025, 2304, 2601, 2916, 3249, 3600, 3969, 4356,\n",
       "       4761, 5184, 5625, 6084, 6561, 7056, 7569, 8100, 8649, 9216, 9801])"
      ]
     },
     "execution_count": 9,
     "metadata": {},
     "output_type": "execute_result"
    }
   ],
   "source": [
    "import numpy as np\n",
    "\n",
    "#create an array of the first 100 positive integers\n",
    "squares = np.arange(1, 101) ** 2\n",
    "\n",
    "#reshape to a 10x10 array\n",
    "squares_10x10 = squares.reshape(10, 10)\n",
    "\n",
    "#find all values that are divisible by 3\n",
    "div_by_3 = squares_10x10[squares_10x10 % 3 == 0]\n",
    "\n",
    "#save array into \".npy\" file\n",
    "np.save('div_by_3.npy', div_by_3)\n",
    "\n",
    "#output the saved file\n",
    "data = np.load('div_by_3.npy')\n",
    "data"
   ]
  },
  {
   "cell_type": "code",
   "execution_count": null,
   "id": "bc5a5657-9891-464c-845a-46b798ed0de2",
   "metadata": {},
   "outputs": [],
   "source": []
  }
 ],
 "metadata": {
  "kernelspec": {
   "display_name": "anaconda-panel-2023.05-py310",
   "language": "python",
   "name": "conda-env-anaconda-panel-2023.05-py310-py"
  },
  "language_info": {
   "codemirror_mode": {
    "name": "ipython",
    "version": 3
   },
   "file_extension": ".py",
   "mimetype": "text/x-python",
   "name": "python",
   "nbconvert_exporter": "python",
   "pygments_lexer": "ipython3",
   "version": "3.11.5"
  }
 },
 "nbformat": 4,
 "nbformat_minor": 5
}
